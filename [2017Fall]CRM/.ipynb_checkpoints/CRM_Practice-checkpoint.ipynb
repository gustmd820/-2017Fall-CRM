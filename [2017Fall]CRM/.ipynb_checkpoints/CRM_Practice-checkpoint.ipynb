{
 "cells": [
  {
   "cell_type": "markdown",
   "metadata": {},
   "source": [
    "# 1. Data Import"
   ]
  },
  {
   "cell_type": "code",
   "execution_count": 1,
   "metadata": {
    "collapsed": false
   },
   "outputs": [
    {
     "data": {
      "text/html": [
       "<div>\n",
       "<style>\n",
       "    .dataframe thead tr:only-child th {\n",
       "        text-align: right;\n",
       "    }\n",
       "\n",
       "    .dataframe thead th {\n",
       "        text-align: left;\n",
       "    }\n",
       "\n",
       "    .dataframe tbody tr th {\n",
       "        vertical-align: top;\n",
       "    }\n",
       "</style>\n",
       "<table border=\"1\" class=\"dataframe\">\n",
       "  <thead>\n",
       "    <tr style=\"text-align: right;\">\n",
       "      <th></th>\n",
       "      <th>고객ID</th>\n",
       "      <th>성별</th>\n",
       "      <th>연령</th>\n",
       "      <th>서비스기간</th>\n",
       "      <th>단선횟수</th>\n",
       "      <th>주간통화횟수</th>\n",
       "      <th>주간통화시간_분</th>\n",
       "      <th>야간통화횟수</th>\n",
       "      <th>야간통화시간_분</th>\n",
       "      <th>주말통화횟수</th>\n",
       "      <th>주말통화시간_분</th>\n",
       "      <th>국제통화시간_분</th>\n",
       "      <th>국내통화횟수</th>\n",
       "      <th>국내통화시간_분</th>\n",
       "      <th>총통화시간_분</th>\n",
       "      <th>통화량구분</th>\n",
       "      <th>총통화요금</th>\n",
       "      <th>부과요금</th>\n",
       "      <th>통화품질불만</th>\n",
       "      <th>이탈여부</th>\n",
       "    </tr>\n",
       "  </thead>\n",
       "  <tbody>\n",
       "    <tr>\n",
       "      <th>0</th>\n",
       "      <td>C101180</td>\n",
       "      <td>남</td>\n",
       "      <td>37</td>\n",
       "      <td>20.333333</td>\n",
       "      <td>1</td>\n",
       "      <td>29</td>\n",
       "      <td>46.800000</td>\n",
       "      <td>17</td>\n",
       "      <td>47.400000</td>\n",
       "      <td>3</td>\n",
       "      <td>30.000000</td>\n",
       "      <td>14.555928</td>\n",
       "      <td>49</td>\n",
       "      <td>124.200000</td>\n",
       "      <td>138.755928</td>\n",
       "      <td>저</td>\n",
       "      <td>5.822371</td>\n",
       "      <td>65.762371</td>\n",
       "      <td>F</td>\n",
       "      <td>이탈</td>\n",
       "    </tr>\n",
       "    <tr>\n",
       "      <th>1</th>\n",
       "      <td>C101300</td>\n",
       "      <td>남</td>\n",
       "      <td>38</td>\n",
       "      <td>35.000000</td>\n",
       "      <td>1</td>\n",
       "      <td>25</td>\n",
       "      <td>33.024909</td>\n",
       "      <td>20</td>\n",
       "      <td>19.814945</td>\n",
       "      <td>2</td>\n",
       "      <td>37.218548</td>\n",
       "      <td>12.091963</td>\n",
       "      <td>47</td>\n",
       "      <td>90.058402</td>\n",
       "      <td>102.150365</td>\n",
       "      <td>저</td>\n",
       "      <td>4.836785</td>\n",
       "      <td>64.776785</td>\n",
       "      <td>F</td>\n",
       "      <td>이탈</td>\n",
       "    </tr>\n",
       "    <tr>\n",
       "      <th>2</th>\n",
       "      <td>C101770</td>\n",
       "      <td>남</td>\n",
       "      <td>30</td>\n",
       "      <td>17.500000</td>\n",
       "      <td>0</td>\n",
       "      <td>2</td>\n",
       "      <td>67.800000</td>\n",
       "      <td>6</td>\n",
       "      <td>30.600000</td>\n",
       "      <td>8</td>\n",
       "      <td>75.000000</td>\n",
       "      <td>42.715277</td>\n",
       "      <td>16</td>\n",
       "      <td>173.400000</td>\n",
       "      <td>216.115277</td>\n",
       "      <td>저</td>\n",
       "      <td>17.086111</td>\n",
       "      <td>77.026111</td>\n",
       "      <td>F</td>\n",
       "      <td>이탈</td>\n",
       "    </tr>\n",
       "    <tr>\n",
       "      <th>3</th>\n",
       "      <td>C101780</td>\n",
       "      <td>남</td>\n",
       "      <td>33</td>\n",
       "      <td>25.966667</td>\n",
       "      <td>0</td>\n",
       "      <td>10</td>\n",
       "      <td>52.200001</td>\n",
       "      <td>48</td>\n",
       "      <td>90.300001</td>\n",
       "      <td>12</td>\n",
       "      <td>19.500000</td>\n",
       "      <td>19.299243</td>\n",
       "      <td>70</td>\n",
       "      <td>162.000002</td>\n",
       "      <td>181.299245</td>\n",
       "      <td>저</td>\n",
       "      <td>7.719697</td>\n",
       "      <td>67.659697</td>\n",
       "      <td>F</td>\n",
       "      <td>이탈</td>\n",
       "    </tr>\n",
       "    <tr>\n",
       "      <th>4</th>\n",
       "      <td>C101800</td>\n",
       "      <td>남</td>\n",
       "      <td>40</td>\n",
       "      <td>51.466667</td>\n",
       "      <td>2</td>\n",
       "      <td>7</td>\n",
       "      <td>25.008754</td>\n",
       "      <td>24</td>\n",
       "      <td>39.726294</td>\n",
       "      <td>2</td>\n",
       "      <td>2.950885</td>\n",
       "      <td>1.413106</td>\n",
       "      <td>33</td>\n",
       "      <td>67.685933</td>\n",
       "      <td>69.099039</td>\n",
       "      <td>저</td>\n",
       "      <td>0.565242</td>\n",
       "      <td>60.505242</td>\n",
       "      <td>F</td>\n",
       "      <td>이탈</td>\n",
       "    </tr>\n",
       "  </tbody>\n",
       "</table>\n",
       "</div>"
      ],
      "text/plain": [
       "      고객ID 성별  연령      서비스기간  단선횟수  주간통화횟수   주간통화시간_분  야간통화횟수   야간통화시간_분  \\\n",
       "0  C101180  남  37  20.333333     1      29  46.800000      17  47.400000   \n",
       "1  C101300  남  38  35.000000     1      25  33.024909      20  19.814945   \n",
       "2  C101770  남  30  17.500000     0       2  67.800000       6  30.600000   \n",
       "3  C101780  남  33  25.966667     0      10  52.200001      48  90.300001   \n",
       "4  C101800  남  40  51.466667     2       7  25.008754      24  39.726294   \n",
       "\n",
       "   주말통화횟수   주말통화시간_분   국제통화시간_분  국내통화횟수    국내통화시간_분     총통화시간_분 통화량구분  \\\n",
       "0       3  30.000000  14.555928      49  124.200000  138.755928     저   \n",
       "1       2  37.218548  12.091963      47   90.058402  102.150365     저   \n",
       "2       8  75.000000  42.715277      16  173.400000  216.115277     저   \n",
       "3      12  19.500000  19.299243      70  162.000002  181.299245     저   \n",
       "4       2   2.950885   1.413106      33   67.685933   69.099039     저   \n",
       "\n",
       "       총통화요금       부과요금 통화품질불만 이탈여부  \n",
       "0   5.822371  65.762371      F   이탈  \n",
       "1   4.836785  64.776785      F   이탈  \n",
       "2  17.086111  77.026111      F   이탈  \n",
       "3   7.719697  67.659697      F   이탈  \n",
       "4   0.565242  60.505242      F   이탈  "
      ]
     },
     "execution_count": 1,
     "metadata": {},
     "output_type": "execute_result"
    }
   ],
   "source": [
    "######## training data import ########\n",
    "import pandas as pd\n",
    "\n",
    "df_training_dataset = pd.read_csv('training.csv') # trainig dataset\n",
    "df_test_dataset = pd.read_csv('test.csv') # test dataset\n",
    "\n",
    "df_training_dataset.head()"
   ]
  },
  {
   "cell_type": "markdown",
   "metadata": {},
   "source": [
    "## 2. Data Preprocessing\n",
    "+ Training data, Test data\n",
    "+ Categorical, Ordinal Data "
   ]
  },
  {
   "cell_type": "code",
   "execution_count": 2,
   "metadata": {
    "collapsed": false
   },
   "outputs": [
    {
     "data": {
      "text/plain": [
       "(1000, 19)"
      ]
     },
     "execution_count": 2,
     "metadata": {},
     "output_type": "execute_result"
    }
   ],
   "source": [
    "# Training Data 전처리 \n",
    "# Categorical, Ordinal Data 전처리 \n",
    "\n",
    "from sklearn.preprocessing import LabelEncoder\n",
    "class_le = LabelEncoder()\n",
    "df_training_dataset['성별'] = class_le.fit_transform(df_training_dataset['성별'].values)\n",
    "\n",
    "callvalue_mapping = {\n",
    "    '저': 1,\n",
    "    '중저': 2,\n",
    "    '중': 3,\n",
    "    '중고': 4,\n",
    "    '고': 5}\n",
    "\n",
    "df_training_dataset['통화량구분'] = df_training_dataset['통화량구분'].map(callvalue_mapping)\n",
    "df_training_dataset['통화품질불만'] = class_le.fit_transform(df_training_dataset['통화품질불만'].values)\n",
    "df_training_dataset['이탈여부'] = class_le.fit_transform(df_training_dataset['이탈여부'].values)\n",
    "df_training_dataset = df_training_dataset[['성별', '연령', '서비스기간', '단선횟수', '주간통화횟수', '주간통화시간_분', '야간통화횟수',\n",
    "       '야간통화시간_분', '주말통화횟수', '주말통화시간_분', '국제통화시간_분', '국내통화횟수', '국내통화시간_분',\n",
    "       '총통화시간_분', '통화량구분', '총통화요금', '부과요금', '통화품질불만', '이탈여부']]\n",
    "feats = df_training_dataset.transpose().to_dict().values()\n",
    "\n",
    "from sklearn.feature_extraction import DictVectorizer\n",
    "Dvec = DictVectorizer()\n",
    "\n",
    "array_training_input = Dvec.fit_transform(feats).toarray()\n",
    "array_training_input.shape"
   ]
  },
  {
   "cell_type": "code",
   "execution_count": 3,
   "metadata": {
    "collapsed": false
   },
   "outputs": [
    {
     "data": {
      "text/plain": [
       "(200, 19)"
      ]
     },
     "execution_count": 3,
     "metadata": {},
     "output_type": "execute_result"
    }
   ],
   "source": [
    "# Test Data 전처리 \n",
    "# Categorical, Ordinal Data 전처리 \n",
    "\n",
    "from sklearn.preprocessing import LabelEncoder\n",
    "class_le = LabelEncoder()\n",
    "df_test_dataset['성별'] = class_le.fit_transform(df_test_dataset['성별'].values)\n",
    "\n",
    "callvalue_mapping = {\n",
    "    '저': 1,\n",
    "    '중저': 2,\n",
    "    '중': 3,\n",
    "    '중고': 4,\n",
    "    '고': 5}\n",
    "\n",
    "df_test_dataset['통화량구분'] = df_test_dataset['통화량구분'].map(callvalue_mapping)\n",
    "df_test_dataset['통화품질불만'] = class_le.fit_transform(df_test_dataset['통화품질불만'].values)\n",
    "df_test_dataset['이탈여부'] = class_le.fit_transform(df_test_dataset['이탈여부'].values)\n",
    "df_test_dataset = df_test_dataset[['성별', '연령', '서비스기간', '단선횟수', '주간통화횟수', '주간통화시간_분', '야간통화횟수',\n",
    "       '야간통화시간_분', '주말통화횟수', '주말통화시간_분', '국제통화시간_분', '국내통화횟수', '국내통화시간_분',\n",
    "       '총통화시간_분', '통화량구분', '총통화요금', '부과요금', '통화품질불만', '이탈여부']]\n",
    "feats = df_test_dataset.transpose().to_dict().values()\n",
    "\n",
    "from sklearn.feature_extraction import DictVectorizer\n",
    "Dvec = DictVectorizer()\n",
    "\n",
    "array_test_input = Dvec.fit_transform(feats).toarray()\n",
    "array_test_input.shape"
   ]
  },
  {
   "cell_type": "code",
   "execution_count": 4,
   "metadata": {
    "collapsed": false
   },
   "outputs": [
    {
     "data": {
      "text/plain": [
       "array([ 0.,  0.,  0.,  0.,  0.,  0.,  0.,  0.,  0.,  0.,  0.,  0.,  0.,\n",
       "        0.,  0.,  0.,  0.,  0.,  0.,  0.,  0.,  0.,  0.,  0.,  0.,  0.,\n",
       "        0.,  0.,  0.,  0.,  0.,  0.,  0.,  0.,  0.,  0.,  0.,  0.,  0.,\n",
       "        0.,  0.,  0.,  0.,  0.,  0.,  0.,  0.,  0.,  0.,  0.,  0.,  0.,\n",
       "        0.,  0.,  0.,  0.,  0.,  0.,  0.,  0.,  0.,  0.,  0.,  0.,  0.,\n",
       "        0.,  0.,  0.,  0.,  0.,  0.,  0.,  0.,  0.,  0.,  0.,  0.,  0.,\n",
       "        0.,  0.,  0.,  0.,  0.,  0.,  0.,  0.,  0.,  0.,  0.,  0.,  0.,\n",
       "        0.,  0.,  0.,  0.,  0.,  0.,  0.,  0.,  0.,  0.,  0.,  0.,  0.,\n",
       "        0.,  0.,  0.,  0.,  0.,  0.,  0.,  0.,  0.,  0.,  0.,  0.,  0.,\n",
       "        0.,  0.,  0.,  0.,  0.,  0.,  0.,  0.,  0.,  0.,  0.,  0.,  0.,\n",
       "        0.,  0.,  0.,  0.,  0.,  0.,  0.,  0.,  0.,  0.,  0.,  0.,  0.,\n",
       "        0.,  0.,  0.,  0.,  0.,  0.,  0.,  0.,  0.,  0.,  0.,  0.,  0.,\n",
       "        0.,  0.,  0.,  0.,  0.,  0.,  0.,  0.,  0.,  0.,  0.,  0.,  0.,\n",
       "        0.,  0.,  0.,  0.,  0.,  0.,  0.,  0.,  0.,  0.,  0.,  0.,  0.,\n",
       "        0.,  0.,  0.,  0.,  0.,  0.,  0.,  0.,  0.,  0.,  0.,  0.,  0.,\n",
       "        0.,  0.,  0.,  0.,  0.,  0.,  0.,  0.,  0.,  0.,  0.,  0.,  0.,\n",
       "        0.,  0.,  0.,  0.,  0.,  0.,  0.,  0.,  0.,  0.,  0.,  0.,  0.,\n",
       "        0.,  0.,  0.,  0.,  0.,  0.,  0.,  0.,  0.,  0.,  0.,  0.,  0.,\n",
       "        0.,  0.,  0.,  0.,  0.,  0.,  0.,  0.,  0.,  0.,  0.,  0.,  0.,\n",
       "        0.,  0.,  0.,  0.,  0.,  0.,  0.,  0.,  0.,  0.,  0.,  0.,  0.,\n",
       "        0.,  0.,  0.,  0.,  0.,  0.,  0.,  0.,  0.,  0.,  0.,  0.,  0.,\n",
       "        0.,  0.,  0.,  0.,  0.,  0.,  0.,  0.,  0.,  0.,  0.,  0.,  0.,\n",
       "        0.,  0.,  0.,  0.,  0.,  0.,  0.,  0.,  0.,  0.,  0.,  0.,  0.,\n",
       "        0.,  0.,  0.,  0.,  0.,  0.,  0.,  0.,  0.,  0.,  0.,  0.,  0.,\n",
       "        0.,  0.,  0.,  0.,  0.,  0.,  0.,  0.,  0.,  0.,  0.,  0.,  0.,\n",
       "        0.,  0.,  0.,  0.,  0.,  0.,  0.,  0.,  0.,  0.,  0.,  0.,  0.,\n",
       "        0.,  0.,  0.,  0.,  0.,  0.,  0.,  0.,  0.,  0.,  0.,  0.,  0.,\n",
       "        0.,  0.,  0.,  0.,  0.,  0.,  0.,  0.,  0.,  0.,  0.,  0.,  0.,\n",
       "        0.,  0.,  0.,  0.,  0.,  0.,  0.,  0.,  0.,  0.,  0.,  0.,  0.,\n",
       "        0.,  0.,  0.,  0.,  0.,  0.,  0.,  0.,  0.,  0.,  0.,  0.,  0.,\n",
       "        0.,  0.,  0.,  0.,  0.,  0.,  0.,  0.,  0.,  0.,  0.,  0.,  0.,\n",
       "        0.,  0.,  0.,  0.,  0.,  0.,  0.,  0.,  0.,  0.,  0.,  0.,  0.,\n",
       "        0.,  0.,  0.,  0.,  0.,  0.,  0.,  0.,  0.,  0.,  0.,  0.,  0.,\n",
       "        0.,  0.,  0.,  0.,  0.,  0.,  0.,  0.,  0.,  0.,  0.,  0.,  0.,\n",
       "        0.,  0.,  0.,  0.,  0.,  0.,  0.,  0.,  0.,  0.,  0.,  0.,  0.,\n",
       "        0.,  0.,  0.,  0.,  0.,  0.,  0.,  0.,  0.,  0.,  0.,  0.,  0.,\n",
       "        0.,  0.,  0.,  0.,  0.,  0.,  0.,  0.,  0.,  0.,  0.,  0.,  0.,\n",
       "        0.,  0.,  0.,  0.,  0.,  0.,  0.,  0.,  0.,  0.,  0.,  0.,  0.,\n",
       "        0.,  0.,  0.,  0.,  0.,  0.,  0.,  0.,  0.,  0.,  0.,  1.,  0.,\n",
       "        0.,  0.,  0.,  0.,  0.,  0.,  0.,  0.,  0.,  0.,  0.,  0.,  0.,\n",
       "        0.,  0.,  0.,  0.,  0.,  0.,  0.,  0.,  0.,  0.,  0.,  0.,  0.,\n",
       "        0.,  0.,  0.,  0.,  0.,  0.,  0.,  0.,  0.,  0.,  0.,  0.,  0.,\n",
       "        0.,  0.,  0.,  0.,  0.,  0.,  0.,  0.,  0.,  0.,  0.,  0.,  0.,\n",
       "        0.,  0.,  0.,  0.,  0.,  0.,  0.,  0.,  0.,  0.,  0.,  0.,  0.,\n",
       "        0.,  0.,  0.,  0.,  0.,  0.,  0.,  0.,  0.,  0.,  0.,  0.,  0.,\n",
       "        0.,  0.,  0.,  0.,  0.,  0.,  0.,  0.,  0.,  0.,  0.,  0.,  0.,\n",
       "        0.,  0.,  0.,  0.,  0.,  0.,  0.,  0.,  0.,  0.,  0.,  0.,  0.,\n",
       "        0.,  0.,  0.,  0.,  0.,  0.,  0.,  0.,  0.,  0.,  0.,  0.,  0.,\n",
       "        0.,  0.,  0.,  0.,  0.,  0.,  0.,  0.,  0.,  0.,  0.,  0.,  0.,\n",
       "        0.,  0.,  0.,  0.,  0.,  0.,  0.,  0.,  0.,  0.,  0.,  0.,  0.,\n",
       "        0.,  0.,  0.,  0.,  0.,  0.,  0.,  0.,  0.,  0.,  0.,  0.,  0.,\n",
       "        0.,  0.,  0.,  0.,  0.,  0.,  0.,  0.,  0.,  0.,  0.,  0.,  0.,\n",
       "        0.,  0.,  0.,  0.,  0.,  0.,  0.,  0.,  0.,  0.,  0.,  0.,  0.,\n",
       "        0.,  0.,  0.,  0.,  0.,  0.,  0.,  0.,  0.,  0.,  0.,  0.,  0.,\n",
       "        0.,  0.,  0.,  0.,  0.,  0.,  0.,  0.,  0.,  0.,  0.,  0.,  0.,\n",
       "        0.,  0.,  0.,  0.,  0.,  0.,  0.,  0.,  0.,  0.,  0.,  0.,  0.,\n",
       "        0.,  0.,  0.,  0.,  0.,  0.,  0.,  0.,  0.,  0.,  0.,  0.,  0.,\n",
       "        0.,  0.,  0.,  0.,  0.,  0.,  0.,  0.,  0.,  0.,  0.,  0.,  0.,\n",
       "        0.,  0.,  0.,  0.,  0.,  0.,  0.,  0.,  0.,  0.,  0.,  0.,  0.,\n",
       "        0.,  0.,  0.,  0.,  0.,  0.,  0.,  0.,  0.,  0.,  0.,  0.,  1.,\n",
       "        0.,  0.,  0.,  0.,  0.,  0.,  0.,  0.,  0.,  0.,  0.,  0.,  0.,\n",
       "        0.,  0.,  0.,  0.,  0.,  0.,  0.,  0.,  0.,  0.,  0.,  0.,  0.,\n",
       "        0.,  0.,  0.,  0.,  0.,  0.,  0.,  0.,  0.,  0.,  0.,  0.,  0.,\n",
       "        0.,  0.,  0.,  0.,  0.,  0.,  0.,  0.,  0.,  0.,  0.,  0.,  0.,\n",
       "        0.,  0.,  0.,  0.,  0.,  0.,  0.,  0.,  0.,  0.,  0.,  0.,  0.,\n",
       "        0.,  0.,  0.,  0.,  0.,  0.,  0.,  0.,  0.,  0.,  0.,  0.,  0.,\n",
       "        0.,  0.,  0.,  0.,  0.,  0.,  0.,  0.,  0.,  0.,  0.,  0.,  0.,\n",
       "        0.,  0.,  0.,  0.,  0.,  0.,  0.,  0.,  0.,  0.,  0.,  0.,  0.,\n",
       "        0.,  0.,  0.,  0.,  0.,  0.,  0.,  0.,  0.,  0.,  0.,  0.,  0.,\n",
       "        0.,  0.,  0.,  0.,  0.,  0.,  0.,  0.,  0.,  0.,  0.,  0.,  0.,\n",
       "        0.,  0.,  1.,  0.,  0.,  0.,  0.,  0.,  0.,  0.,  1.,  1.,  1.,\n",
       "        0.,  0.,  0.,  0.,  0.,  0.,  0.,  0.,  0.,  0.,  0.,  1.,  0.,\n",
       "        0.,  0.,  0.,  0.,  0.,  0.,  0.,  0.,  0.,  0.,  0.,  0.,  0.,\n",
       "        0.,  0.,  0.,  0.,  1.,  1.,  0.,  0.,  0.,  0.,  0.,  0.,  0.,\n",
       "        0.,  0.,  0.,  0.,  0.,  0.,  0.,  0.,  0.,  0.,  0.,  0.,  0.,\n",
       "        0.,  0.,  0.,  0.,  0.,  0.,  1.,  1.,  0.,  0.,  1.,  0.,  0.,\n",
       "        1.,  1.,  1.,  1.,  1.,  1.,  1.,  1.,  1.,  1.,  1.,  1.])"
      ]
     },
     "execution_count": 4,
     "metadata": {},
     "output_type": "execute_result"
    }
   ],
   "source": [
    "# Target Label \n",
    "array_training_target = array_training_input[:,-1]\n",
    "array_training_target"
   ]
  },
  {
   "cell_type": "markdown",
   "metadata": {},
   "source": [
    "# 3. Modeling "
   ]
  },
  {
   "cell_type": "markdown",
   "metadata": {},
   "source": [
    "### Decision Tree(최종)"
   ]
  },
  {
   "cell_type": "code",
   "execution_count": 5,
   "metadata": {
    "collapsed": true
   },
   "outputs": [],
   "source": [
    "from sklearn import tree\n",
    "\n",
    "train_num = 800\n",
    "\n",
    "clf = tree.DecisionTreeClassifier(criterion='entropy')\n",
    "clf = clf.fit(array_training_input[:train_num], array_training_target[:train_num])"
   ]
  },
  {
   "cell_type": "code",
   "execution_count": 6,
   "metadata": {
    "collapsed": false
   },
   "outputs": [
    {
     "name": "stdout",
     "output_type": "stream",
     "text": [
      "1.0\n",
      "0.95\n"
     ]
    }
   ],
   "source": [
    "import numpy as np\n",
    "# training Accuracy 계산 \n",
    "print(np.mean(clf.predict(array_training_input[:train_num]) == array_training_target[:train_num]))\n",
    "\n",
    "# Validation Accuracy 계산 \n",
    "print(np.mean(clf.predict(array_training_input[train_num:]) == array_training_target[train_num:]))"
   ]
  },
  {
   "cell_type": "code",
   "execution_count": 7,
   "metadata": {
    "collapsed": false
   },
   "outputs": [
    {
     "data": {
      "text/plain": [
       "array([ 0.,  0.,  0.,  0.,  0.,  0.,  0.,  0.,  0.,  0.,  0.,  0.,  0.,\n",
       "        0.,  0.,  0.,  0.,  0.,  0.,  0.,  0.,  0.,  0.,  0.,  0.,  0.,\n",
       "        0.,  0.,  0.,  0.,  0.,  0.,  0.,  0.,  0.,  0.,  0.,  0.,  0.,\n",
       "        0.,  0.,  0.,  0.,  0.,  0.,  0.,  0.,  0.,  0.,  0.,  0.,  0.,\n",
       "        0.,  0.,  0.,  0.,  0.,  0.,  0.,  0.,  0.,  0.,  0.,  0.,  0.,\n",
       "        0.,  0.,  0.,  0.,  0.,  0.,  0.,  0.,  0.,  0.,  0.,  0.,  0.,\n",
       "        0.,  0.,  0.,  0.,  0.,  0.,  0.,  0.,  0.,  0.,  0.,  0.,  0.,\n",
       "        0.,  0.,  0.,  0.,  0.,  0.,  0.,  0.,  0.,  0.,  0.,  0.,  0.,\n",
       "        1.,  0.,  0.,  0.,  0.,  0.,  0.,  0.,  0.,  0.,  0.,  0.,  0.,\n",
       "        0.,  0.,  0.,  0.,  0.,  0.,  0.,  0.,  0.,  0.,  0.,  0.,  0.,\n",
       "        0.,  0.,  0.,  0.,  0.,  0.,  0.,  0.,  0.,  0.,  0.,  0.,  0.,\n",
       "        0.,  0.,  0.,  0.,  0.,  0.,  0.,  0.,  0.,  0.,  0.,  0.,  0.,\n",
       "        0.,  0.,  0.,  0.,  0.,  0.,  0.,  0.,  0.,  0.,  0.,  0.,  0.,\n",
       "        0.,  0.,  0.,  0.,  0.,  0.,  0.,  0.,  0.,  0.,  0.,  0.,  0.,\n",
       "        0.,  0.,  0.,  0.,  0.,  0.,  0.,  0.,  0.,  0.,  0.,  0.,  0.,\n",
       "        0.,  1.,  0.,  0.,  0.])"
      ]
     },
     "execution_count": 7,
     "metadata": {},
     "output_type": "execute_result"
    }
   ],
   "source": [
    "# 최종 예측 결과 (0 = 유지, 1: 이탈)\n",
    "clf.predict(array_test_input)"
   ]
  },
  {
   "cell_type": "markdown",
   "metadata": {},
   "source": [
    "### Logistic Regresstion"
   ]
  },
  {
   "cell_type": "code",
   "execution_count": 8,
   "metadata": {
    "collapsed": false
   },
   "outputs": [
    {
     "data": {
      "text/plain": [
       "LogisticRegression(C=1.0, class_weight=None, dual=False, fit_intercept=True,\n",
       "          intercept_scaling=1, max_iter=100, multi_class='ovr', n_jobs=1,\n",
       "          penalty='l2', random_state=None, solver='liblinear', tol=0.0001,\n",
       "          verbose=0, warm_start=False)"
      ]
     },
     "execution_count": 8,
     "metadata": {},
     "output_type": "execute_result"
    }
   ],
   "source": [
    "from sklearn.linear_model import LogisticRegression\n",
    "\n",
    "clf = LogisticRegression()\n",
    "clf.fit(array_training_input[:train_num], array_training_target[:train_num])"
   ]
  },
  {
   "cell_type": "code",
   "execution_count": 9,
   "metadata": {
    "collapsed": false
   },
   "outputs": [
    {
     "name": "stdout",
     "output_type": "stream",
     "text": [
      "1.0\n",
      "0.88\n"
     ]
    }
   ],
   "source": [
    "# training Accuracy 계산 \n",
    "print(np.mean(clf.predict(array_training_input[:train_num]) == array_training_target[:train_num]))\n",
    "\n",
    "# Validation Accuracy 계산 \n",
    "print(np.mean(clf.predict(array_training_input[train_num:]) == array_training_target[train_num:]))"
   ]
  },
  {
   "cell_type": "markdown",
   "metadata": {},
   "source": [
    "### Support Vector Machine"
   ]
  },
  {
   "cell_type": "code",
   "execution_count": 10,
   "metadata": {
    "collapsed": false
   },
   "outputs": [
    {
     "data": {
      "text/plain": [
       "SVC(C=1.0, cache_size=200, class_weight=None, coef0=0.0,\n",
       "  decision_function_shape=None, degree=3, gamma='auto', kernel='rbf',\n",
       "  max_iter=-1, probability=False, random_state=None, shrinking=True,\n",
       "  tol=0.001, verbose=False)"
      ]
     },
     "execution_count": 10,
     "metadata": {},
     "output_type": "execute_result"
    }
   ],
   "source": [
    "from sklearn import svm\n",
    "\n",
    "clf = svm.SVC()\n",
    "clf.fit(array_training_input[:train_num], array_training_target[:train_num])"
   ]
  },
  {
   "cell_type": "code",
   "execution_count": 11,
   "metadata": {
    "collapsed": false
   },
   "outputs": [
    {
     "name": "stdout",
     "output_type": "stream",
     "text": [
      "1.0\n",
      "0.89\n"
     ]
    }
   ],
   "source": [
    "# training Accuracy 계산 \n",
    "print(np.mean(clf.predict(array_training_input[:train_num]) == array_training_target[:train_num]))\n",
    "\n",
    "# Validation Accuracy 계산 \n",
    "print(np.mean(clf.predict(array_training_input[train_num:]) == array_training_target[train_num:]))"
   ]
  },
  {
   "cell_type": "code",
   "execution_count": null,
   "metadata": {
    "collapsed": true
   },
   "outputs": [],
   "source": []
  }
 ],
 "metadata": {
  "kernelspec": {
   "display_name": "Python 3",
   "language": "python",
   "name": "python3"
  },
  "language_info": {
   "codemirror_mode": {
    "name": "ipython",
    "version": 3
   },
   "file_extension": ".py",
   "mimetype": "text/x-python",
   "name": "python",
   "nbconvert_exporter": "python",
   "pygments_lexer": "ipython3",
   "version": "3.5.3"
  }
 },
 "nbformat": 4,
 "nbformat_minor": 2
}
